{
 "cells": [
  {
   "cell_type": "code",
   "execution_count": 14,
   "metadata": {
    "collapsed": false
   },
   "outputs": [
    {
     "name": "stdout",
     "output_type": "stream",
     "text": [
      "model = Res1, accuracy = 10.0\n",
      "model = Res2, accuracy = 81.29\n",
      "model = Res3, accuracy = 90.66\n",
      "model = Net1, accuracy = 70.71\n",
      "model = Net2, accuracy = 75.74\n",
      "model = Net3, accuracy = 72.89\n"
     ]
    }
   ],
   "source": [
    "import torch\n",
    "ls = ['Res1', 'Res2', 'Res3', 'Net1', 'Net2', 'Net3']\n",
    "#ls = ['Res2']\n",
    "for name in ls:\n",
    "    file = name + '/checkpoint/ckpt.t7'\n",
    "    ck = torch.load(file, map_location='cpu')\n",
    "    print 'model = {}, accuracy = {}'.format(name, ck['acc'])\n",
    "    "
   ]
  },
  {
   "cell_type": "code",
   "execution_count": 15,
   "metadata": {
    "collapsed": false
   },
   "outputs": [
    {
     "data": {
      "text/plain": [
       "['acc', 'net', 'learning_curve', 'test_curve', 'epoch']"
      ]
     },
     "execution_count": 15,
     "metadata": {},
     "output_type": "execute_result"
    }
   ],
   "source": [
    "ck.keys()"
   ]
  },
  {
   "cell_type": "code",
   "execution_count": null,
   "metadata": {
    "collapsed": true
   },
   "outputs": [],
   "source": []
  }
 ],
 "metadata": {
  "anaconda-cloud": {},
  "kernelspec": {
   "display_name": "Python [conda env:anaconda]",
   "language": "python",
   "name": "conda-env-anaconda-py"
  },
  "language_info": {
   "codemirror_mode": {
    "name": "ipython",
    "version": 2
   },
   "file_extension": ".py",
   "mimetype": "text/x-python",
   "name": "python",
   "nbconvert_exporter": "python",
   "pygments_lexer": "ipython2",
   "version": "2.7.15"
  }
 },
 "nbformat": 4,
 "nbformat_minor": 2
}
