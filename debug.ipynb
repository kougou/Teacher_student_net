{
 "cells": [
  {
   "cell_type": "code",
   "execution_count": 4,
   "metadata": {
    "collapsed": true
   },
   "outputs": [],
   "source": [
    "\"\"\"\n",
    "   Baseline CNN, losss function and metrics\n",
    "   Also customizes knowledge distillation (KD) loss function here\n",
    "\"\"\"\n",
    "\n",
    "import numpy as np\n",
    "import torch\n",
    "import torch.nn as nn\n",
    "import torch.nn.functional as F\n",
    "\n",
    "\n",
    "class Net2(nn.Module):\n",
    "    \"\"\"\n",
    "    This is the standard way to define your own network in PyTorch. You typically choose the components\n",
    "    (e.g. LSTMs, linear layers etc.) of your network in the __init__ function. You then apply these layers\n",
    "    on the input step-by-step in the forward function. You can use torch.nn.functional to apply functions\n",
    "\n",
    "    such as F.relu, F.sigmoid, F.softmax, F.max_pool2d. Be careful to ensure your dimensions are correct after each\n",
    "    step. You are encouraged to have a look at the network in pytorch/nlp/model/net.py to get a better sense of how\n",
    "    you can go about defining your own network.\n",
    "\n",
    "    The documentation for all the various components available o you is here: http://pytorch.org/docs/master/nn.html\n",
    "    \"\"\"\n",
    "\n",
    "    def __init__(self, num):\n",
    "        \"\"\"\n",
    "        We define an convolutional network that predicts the sign from an image. The components\n",
    "        required are:\n",
    "\n",
    "        Args:\n",
    "            params: (Params) contains num_channels\n",
    "        \"\"\"\n",
    "        super(Net2, self).__init__()\n",
    "        # num default to be 32\n",
    "        self.num_channels = num\n",
    "\n",
    "        # each of the convolution layers below have the arguments (input_channels, output_channels, filter_size,\n",
    "        # stride, padding). We also include batch normalisation layers that help stabilise training.\n",
    "        # For more details on how to use these layers, check out the documentation.\n",
    "        self.conv1 = nn.Conv2d(3, self.num_channels, 3, stride=1, padding=1)\n",
    "        self.bn1 = nn.BatchNorm2d(self.num_channels)\n",
    "        self.conv2 = nn.Conv2d(self.num_channels, self.num_channels * 4, 3, stride=2, padding=1)\n",
    "        self.bn2 = nn.BatchNorm2d(self.num_channels * 4)\n",
    "\n",
    "        # 2 fully connected layers to transform the output of the convolution layers to the final output\n",
    "        self.fc1 = nn.Linear(4 * 4 * self.num_channels * 4, 10)\n",
    "        self.dropout_rate = 0.5\n",
    "\n",
    "    def forward(self, x):\n",
    "        \"\"\"\n",
    "        This function defines how we use the components of our network to operate on an input batch.\n",
    "\n",
    "        Args:\n",
    "            s: (Variable) contains a batch of images, of dimension batch_size x 3 x 32 x 32 .\n",
    "\n",
    "        Returns:\n",
    "            out: (Variable) dimension batch_size x 6 with the log probabilities for the labels of each image.\n",
    "\n",
    "        Note: the dimensions after each step are provided\n",
    "        \"\"\"\n",
    "        ### x.shape = torch.Size([128, 3, 32, 32])\n",
    "        #                                                  -> batch_size x 3 x 32 x 32\n",
    "        # we apply the convolution layers, followed by batch normalisation, maxpool and relu x 3\n",
    "\n",
    "        x = self.bn1(self.conv1(x))  # batch_size x num_channels x 32 x 32\n",
    "        ### torch.Size([128, 32, 32, 32])\n",
    "        x = F.relu(F.max_pool2d(x, 2))  # batch_size x num_channels x 16 x 16\n",
    "        ### torch.Size([128, 32, 8, 8])\n",
    "        x = self.bn2(self.conv2(x))  # batch_size x num_channels*2 x 16 x 16\n",
    "        x = F.relu(F.max_pool2d(x, 2))  # batch_size x num_channels*2 x 8 x 8\n",
    "        ### torch.Size([128, 128, 8, 8])\n",
    "        # flatten the output for each image\n",
    "        x = x.view(-1, 4 * 4 * self.num_channels * 4)  # batch_size x 4*4*num_channels*4\n",
    "\n",
    "        # apply 1 fully connected layers with dropout\n",
    "        # s = F.dropout(F.relu(self.fcbn1(self.fc1(s))),\n",
    "        #               p=self.dropout_rate, training=self.training)  # batch_size x self.num_channels*4\n",
    "        x = self.fc1(x)\n",
    "        #torch.Size([512, 10])\n",
    "        return x\n",
    "\n",
    "\n",
    "\n"
   ]
  },
  {
   "cell_type": "code",
   "execution_count": 33,
   "metadata": {
    "collapsed": false
   },
   "outputs": [],
   "source": [
    "model = Net2(2)"
   ]
  },
  {
   "cell_type": "code",
   "execution_count": 34,
   "metadata": {
    "collapsed": false
   },
   "outputs": [],
   "source": [
    "x = torch.randn((128,3,32,32))"
   ]
  },
  {
   "cell_type": "code",
   "execution_count": 35,
   "metadata": {
    "collapsed": false
   },
   "outputs": [
    {
     "data": {
      "text/plain": [
       "torch.Size([128, 10])"
      ]
     },
     "execution_count": 35,
     "metadata": {},
     "output_type": "execute_result"
    }
   ],
   "source": [
    "model(x).shape"
   ]
  },
  {
   "cell_type": "code",
   "execution_count": 36,
   "metadata": {
    "collapsed": false
   },
   "outputs": [
    {
     "data": {
      "text/plain": [
       "1518"
      ]
     },
     "execution_count": 36,
     "metadata": {},
     "output_type": "execute_result"
    }
   ],
   "source": [
    "sum(p.numel() for p in model.parameters()         if p.requires_grad)"
   ]
  },
  {
   "cell_type": "code",
   "execution_count": null,
   "metadata": {
    "collapsed": true
   },
   "outputs": [],
   "source": []
  }
 ],
 "metadata": {
  "anaconda-cloud": {},
  "kernelspec": {
   "display_name": "Python [conda env:anaconda]",
   "language": "python",
   "name": "conda-env-anaconda-py"
  },
  "language_info": {
   "codemirror_mode": {
    "name": "ipython",
    "version": 2
   },
   "file_extension": ".py",
   "mimetype": "text/x-python",
   "name": "python",
   "nbconvert_exporter": "python",
   "pygments_lexer": "ipython2",
   "version": "2.7.15"
  }
 },
 "nbformat": 4,
 "nbformat_minor": 2
}
